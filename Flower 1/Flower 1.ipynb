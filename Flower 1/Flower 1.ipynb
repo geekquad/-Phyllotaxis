{
 "cells": [
  {
   "cell_type": "code",
   "execution_count": 54,
   "metadata": {},
   "outputs": [],
   "source": [
    "from turtle import *"
   ]
  },
  {
   "cell_type": "code",
   "execution_count": 55,
   "metadata": {},
   "outputs": [],
   "source": [
    "shape(\"arrow\")\n",
    "wheel = 12\n",
    "bgcolor(\"silver\")\n",
    "pensize(5)\n",
    "pencolor(\"gold\")\n",
    "speed(5)"
   ]
  },
  {
   "cell_type": "code",
   "execution_count": 56,
   "metadata": {},
   "outputs": [],
   "source": [
    "for i in range(wheel):\n",
    "    begin_fill();rt(90);fd(200);lt(120);fd(200);lt(200);end_fill()\n",
    "    fd(200)\n",
    "Screen(). bye()"
   ]
  }
 ],
 "metadata": {
  "kernelspec": {
   "display_name": "Python 3",
   "language": "python",
   "name": "python3"
  },
  "language_info": {
   "codemirror_mode": {
    "name": "ipython",
    "version": 3
   },
   "file_extension": ".py",
   "mimetype": "text/x-python",
   "name": "python",
   "nbconvert_exporter": "python",
   "pygments_lexer": "ipython3",
   "version": "3.6.4"
  }
 },
 "nbformat": 4,
 "nbformat_minor": 2
}
